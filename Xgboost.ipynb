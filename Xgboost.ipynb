{
 "cells": [
  {
   "cell_type": "code",
   "execution_count": 3,
   "metadata": {
    "collapsed": false
   },
   "outputs": [],
   "source": [
    "import xgboost as xgb\n",
    "import pandas as pd"
   ]
  },
  {
   "cell_type": "code",
   "execution_count": 5,
   "metadata": {
    "collapsed": false
   },
   "outputs": [
    {
     "data": {
      "text/plain": [
       "4800"
      ]
     },
     "execution_count": 5,
     "metadata": {},
     "output_type": "execute_result"
    }
   ],
   "source": [
    "datatrain=pd.read_csv('data/hasilsteming3.csv')\n",
    "datatrain=datatrain[0:4800]\n",
    "datatrain.sentiment[datatrain.sentiment==0]='net'\n",
    "datatrain.sentiment[datatrain.sentiment==1]='pos'\n",
    "datatrain.sentiment[datatrain.sentiment==-1]='neg'\n",
    "datatrain.head()\n",
    "len(datatrain)"
   ]
  },
  {
   "cell_type": "code",
   "execution_count": 6,
   "metadata": {
    "collapsed": false
   },
   "outputs": [
    {
     "data": {
      "text/plain": [
       "(4800, 6290)"
      ]
     },
     "execution_count": 6,
     "metadata": {},
     "output_type": "execute_result"
    }
   ],
   "source": [
    "#from sklearn.feature_extraction.text import TfidfVectorizer\n",
    "#vectorizer = TfidfVectorizer(min_df=1,ngram_range=(1,2))\n",
    "#X_train_tfidf=vectorizer.fit_transform(datatrain['tweetText'])\n",
    "#X_train_tfidf.todense()\n",
    "from sklearn.feature_extraction.text import CountVectorizer\n",
    "from sklearn.feature_extraction.text import TfidfTransformer\n",
    "count_vect = CountVectorizer()\n",
    "X_train_counts = count_vect.fit_transform(datatrain['tweetText'])\n",
    "tfidf_transformer = TfidfTransformer()\n",
    "X_train_tfidf = tfidf_transformer.fit_transform(X_train_counts)\n",
    "X_train_tfidf.shape\n",
    "#vectorizer.get_feature_names()"
   ]
  },
  {
   "cell_type": "code",
   "execution_count": 7,
   "metadata": {
    "collapsed": false
   },
   "outputs": [
    {
     "name": "stderr",
     "output_type": "stream",
     "text": [
      "/usr/local/lib/python2.7/dist-packages/matplotlib/font_manager.py:273: UserWarning: Matplotlib is building the font cache using fc-list. This may take a moment.\n",
      "  warnings.warn('Matplotlib is building the font cache using fc-list. This may take a moment.')\n"
     ]
    }
   ],
   "source": [
    "import imblearn\n",
    "from imblearn.over_sampling import SMOTE\n",
    "from imblearn.combine import SMOTETomek\n",
    "from sklearn.pipeline import Pipeline\n",
    "from sklearn.decomposition import PCA\n",
    "from sklearn.naive_bayes import MultinomialNB,BernoulliNB,GaussianNB\n",
    "from sklearn.cross_validation import train_test_split as tts\n",
    "import matplotlib.pyplot as plt\n",
    "from collections import Counter\n",
    "%matplotlib inline\n",
    "from sklearn.metrics import precision_recall_curve,roc_curve,auc\n",
    "import numpy as np\n",
    "from sklearn import svm\n",
    "from sklearn import metrics\n",
    "from imblearn.over_sampling import ADASYN\n",
    "from imblearn.ensemble import BalanceCascade\n",
    "from imblearn.over_sampling import RandomOverSampler\n",
    "from sklearn.cross_validation import KFold\n",
    "from sklearn.linear_model import LogisticRegression\n",
    "from sklearn.ensemble import RandomForestClassifier \n"
   ]
  },
  {
   "cell_type": "code",
   "execution_count": 8,
   "metadata": {
    "collapsed": false
   },
   "outputs": [
    {
     "name": "stdout",
     "output_type": "stream",
     "text": [
      "             precision    recall  f1-score   support\n",
      "\n",
      "        neg       0.67      0.12      0.20       117\n",
      "        net       0.85      0.98      0.91       784\n",
      "        pos       0.80      0.41      0.54        59\n",
      "\n",
      "avg / total       0.82      0.84      0.80       960\n",
      "\n",
      "Presisi: 0.771983865053\n",
      "Recall: 0.503710552742\n",
      "F1-Score: 0.551404980914\n",
      "Akurasi: 0.84375\n"
     ]
    }
   ],
   "source": [
    "clf=xgboost.XGBClassifier()\n",
    "#clf = svm.SVC(decision_function_shape='ovo')\n",
    "X_train, X_test, y_train, y_test = tts(X_train_tfidf.toarray(), datatrain['sentiment'], test_size=0.2)\n",
    "clf.fit(X_train,y_train)\n",
    "predicted=clf.predict(X_test)\n",
    "predicted\n",
    "print(metrics.classification_report(y_test, predicted))\n",
    "presisi_xgb=metrics.precision_score(y_test, predicted,average='macro')\n",
    "recall_xgb=metrics.recall_score(y_test, predicted,average='macro')\n",
    "f1_xgb=metrics.f1_score(y_test, predicted,average='macro')\n",
    "akurasi_xgb=metrics.accuracy_score(y_test, predicted)\n",
    "print \"Presisi:\",presisi_xgb \n",
    "print \"Recall:\", recall_xgb\n",
    "print \"F1-Score:\", f1_xgb\n",
    "print \"Akurasi:\", akurasi_xgb\n"
   ]
  },
  {
   "cell_type": "code",
   "execution_count": 10,
   "metadata": {
    "collapsed": false
   },
   "outputs": [
    {
     "name": "stdout",
     "output_type": "stream",
     "text": [
      "[ 0.84375     0.84583333  0.84791667  0.8375      0.8         0.84166667\n",
      "  0.81041667  0.83541667  0.83125     0.85833333]\n",
      "Accuracy: 0.84 (+/- 0.03)\n"
     ]
    }
   ],
   "source": [
    "from sklearn import datasets, linear_model, cross_validation, grid_search\n",
    "x=X_train_tfidf.toarray()\n",
    "y= datatrain['sentiment']\n",
    "lr =xgboost.XGBClassifier()\n",
    "kf_total = KFold(len(x), n_folds=10, shuffle=True, random_state=4)\n",
    "scores_xgb_kfold=cross_validation.cross_val_score(lr, x, y, cv=kf_total, n_jobs = 1)\n",
    "print scores_xgb_kfold\n",
    "print(\"Accuracy: %0.2f (+/- %0.2f)\" % (scores_xgb_kfold.mean(), scores_xgb_kfold.std() * 2))"
   ]
  },
  {
   "cell_type": "code",
   "execution_count": 11,
   "metadata": {
    "collapsed": false
   },
   "outputs": [
    {
     "data": {
      "image/png": "[encoded data removed]",
      "text/plain": [
       "<matplotlib.figure.Figure at 0x7f26869bdb90>"
      ]
     },
     "metadata": {},
     "output_type": "display_data"
    }
   ],
   "source": [
    "#ROC UNTUK CV___>PAKAI DATA TRAINING\n",
    "from sklearn.metrics import precision_recall_curve,roc_curve,auc\n",
    "from sklearn.cross_validation import *\n",
    "#predicted = clf.predict(X_new_tfidf.toarray())\n",
    "#predicted=cross_validation.cross_val_predict(lr, x, y, cv=kf_total, n_jobs = 1)\n",
    "predicted=clf.predict(X_test)\n",
    "\n",
    "\n",
    "y_uji=np.array(predicted)\n",
    "y_asli=np.array(y_test)\n",
    "\n",
    "y_asli[y_asli=='neg']=-1\n",
    "y_asli[y_asli=='pos']=1\n",
    "y_asli[y_asli=='net']=0\n",
    "\n",
    "\n",
    "y_uji[y_uji=='neg']=-1\n",
    "y_uji[y_uji=='pos']=1\n",
    "y_uji[y_uji=='net']=0\n",
    "\n",
    "y_uji=map(int, y_uji)\n",
    "y_asli=map(int, y_asli)\n",
    "\n",
    "\n",
    "n_classes=3\n",
    "fpr = dict()\n",
    "tpr = dict()\n",
    "roc_auc = dict()\n",
    "for i in range(n_classes):\n",
    "    fpr[i], tpr[i], _ = roc_curve(y_asli,y_uji,pos_label=1)\n",
    "    roc_auc[i] = auc(fpr[i], tpr[i])\n",
    "\n",
    "# Compute micro-average ROC curve and ROC area\n",
    "fpr, tpr, _ = roc_curve(y_asli, y_uji,pos_label=1)\n",
    "roc_auc = auc(fpr, tpr)\n",
    "\n",
    "\n",
    "plt.figure()\n",
    "lw = 2\n",
    "plt.plot(fpr, tpr, color='darkorange', label='ROC curve (area = %0.3f)' % roc_auc)\n",
    "plt.plot([0, 1], [0, 1], color='navy', lw=lw, linestyle='--')\n",
    "plt.xlim([0.0, 1.0])\n",
    "plt.ylim([0.0, 1.05])\n",
    "plt.xlabel('False Positive Rate')\n",
    "plt.ylabel('True Positive Rate')\n",
    "plt.title('Receiver operating characteristic')\n",
    "plt.legend(loc=\"lower right\")\n",
    "plt.show()\n"
   ]
  },
  {
   "cell_type": "markdown",
   "metadata": {},
   "source": [
    "# SMOTE"
   ]
  },
  {
   "cell_type": "code",
   "execution_count": 12,
   "metadata": {
    "collapsed": false
   },
   "outputs": [
    {
     "name": "stdout",
     "output_type": "stream",
     "text": [
      "Data sentmen asli Counter({'net': 3887, 'neg': 598, 'pos': 315})\n",
      "Resampled dataset shape Counter({'neg': 3887, 'net': 3887, 'pos': 3887})\n",
      "             precision    recall  f1-score   support\n",
      "\n",
      "        neg       0.86      0.88      0.87       794\n",
      "        net       0.83      0.82      0.83       786\n",
      "        pos       0.93      0.93      0.93       753\n",
      "\n",
      "avg / total       0.87      0.87      0.87      2333\n",
      "\n",
      "Presisi: 0.874426583638\n",
      "Recall: 0.874267661878\n",
      "F1-Score: 0.874301201632\n",
      "Akurasi: 0.873553364766\n"
     ]
    }
   ],
   "source": [
    "sm = SMOTE(k=3)\n",
    "X_res, y_res = sm.fit_sample(X_train_tfidf.toarray(), datatrain['sentiment'])\n",
    "X_res, y_res=sm.fit_sample(X_res,y_res)\n",
    "print ('Data sentmen asli {}'.format (Counter(datatrain['sentiment'])))\n",
    "print('Resampled dataset shape {}'.format(Counter(y_res)))\n",
    "\n",
    "clf=xgboost.XGBClassifier()\n",
    "#clf = svm.SVC(decision_function_shape='ovo')\n",
    "X_train, X_test, y_train, y_test = tts(X_res, y_res,test_size=0.2)\n",
    "clf.fit(X_train,y_train)\n",
    "predicted=clf.predict(X_test)\n",
    "print(metrics.classification_report(y_test, predicted))\n",
    "presisi_svm_smote=metrics.precision_score(y_test, predicted,average='macro')\n",
    "recall_svm_smote=metrics.recall_score(y_test, predicted,average='macro')\n",
    "f1_svm_smote=metrics.f1_score(y_test, predicted,average='macro')\n",
    "akurasi_svm_smote=metrics.accuracy_score(y_test, predicted)\n",
    "print \"Presisi:\",presisi_svm_smote \n",
    "print \"Recall:\", recall_svm_smote\n",
    "print \"F1-Score:\", f1_svm_smote\n",
    "print \"Akurasi:\", akurasi_svm_smote\n",
    "\n"
   ]
  },
  {
   "cell_type": "code",
   "execution_count": 13,
   "metadata": {
    "collapsed": false
   },
   "outputs": [
    {
     "name": "stdout",
     "output_type": "stream",
     "text": [
      "[ 0.96401028  0.96569468  0.96226415  0.94168096  0.96226415  0.93996569\n",
      "  0.94596913  0.95540309  0.95540309  0.95626072]\n",
      "Accuracy: 0.95 (+/- 0.02)\n"
     ]
    }
   ],
   "source": [
    "#x=X_train_tfidf.toarray()\n",
    "#y=datatrain['sentiment']\n",
    "from sklearn import datasets, linear_model, cross_validation, grid_search\n",
    "x=X_res\n",
    "y=y_res\n",
    "lr =svm.LinearSVC() \n",
    "kf_total = KFold(len(x), n_folds=10, shuffle=True, random_state=4)\n",
    "scores_xgb_kfold=cross_validation.cross_val_score(lr, x, y, cv=kf_total, n_jobs = 1)\n",
    "print scores_xgb_kfold\n",
    "print(\"Accuracy: %0.2f (+/- %0.2f)\" % (scores_xgb_kfold.mean(), scores_xgb_kfold.std() * 2))\n"
   ]
  },
  {
   "cell_type": "code",
   "execution_count": null,
   "metadata": {
    "collapsed": true
   },
   "outputs": [],
   "source": []
  }
 ],
 "metadata": {
  "kernelspec": {
   "display_name": "Python 2",
   "language": "python",
   "name": "python2"
  },
  "language_info": {
   "codemirror_mode": {
    "name": "ipython",
    "version": 2
   },
   "file_extension": ".py",
   "mimetype": "text/x-python",
   "name": "python",
   "nbconvert_exporter": "python",
   "pygments_lexer": "ipython2",
   "version": "2.7.11"
  }
 },
 "nbformat": 4,
 "nbformat_minor": 1
}
